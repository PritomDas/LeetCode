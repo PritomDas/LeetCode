{
 "cells": [
  {
   "cell_type": "code",
   "execution_count": 1,
   "metadata": {},
   "outputs": [
    {
     "name": "stdout",
     "output_type": "stream",
     "text": [
      "Counter({' ': 9, 'o': 6, 'u': 3, 'i': 2, 'l': 2, 'v': 2, 'e': 2, 'y': 2, 's': 2, 'I': 1, 'm': 1, 'c': 1, 'h': 1})\n",
      "Counter({'i': 3, 'love': 2, 'you': 2, 'so': 2, 'much': 1})\n"
     ]
    }
   ],
   "source": [
    "import collections\n",
    "s = \"i love you you i I love so so much\"\n",
    "\n",
    "count = collections.Counter(s)\n",
    "new_list = s.lower().split()\n",
    "count1 = collections.Counter(new_list)\n",
    "\n",
    "print(count)\n",
    "print(count1)"
   ]
  },
  {
   "cell_type": "code",
   "execution_count": null,
   "metadata": {},
   "outputs": [],
   "source": []
  }
 ],
 "metadata": {
  "kernelspec": {
   "display_name": "Python 3",
   "language": "python",
   "name": "python3"
  },
  "language_info": {
   "codemirror_mode": {
    "name": "ipython",
    "version": 3
   },
   "file_extension": ".py",
   "mimetype": "text/x-python",
   "name": "python",
   "nbconvert_exporter": "python",
   "pygments_lexer": "ipython3",
   "version": "3.7.3"
  }
 },
 "nbformat": 4,
 "nbformat_minor": 2
}
