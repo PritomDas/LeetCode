{
 "cells": [
  {
   "cell_type": "code",
   "execution_count": 1,
   "metadata": {},
   "outputs": [
    {
     "name": "stdout",
     "output_type": "stream",
     "text": [
      "{'pritom': 4, 'i': 2, 'love': 1, 'you': 2, 'so': 2, 'much': 1}\n",
      "None\n"
     ]
    }
   ],
   "source": [
    "#hashmap/dictionary to store frequency of words \n",
    "def word_counter(string):\n",
    "    #making a list that will store the string by breaking them and saving them in lower case\n",
    "    new_string = string.lower().split()\n",
    "    #making an empty dictionary/hashmap which I will use later to save the frequency of words\n",
    "    my_dict = {}\n",
    "    #making a for loop to utilise the foor loop\n",
    "    for item in new_string:\n",
    "        #this if conditon checks if the item exits in the hashmap\n",
    "        if item in my_dict:\n",
    "            my_dict[item] += 1 #increasing the counter\n",
    "        #this one happens when new item is faced\n",
    "        else:\n",
    "            my_dict[item] = 1\n",
    "    print(my_dict)\n",
    "    \n",
    "#driver code to check\n",
    "print(word_counter(\"Pritom Pritom pritom pritom i i love you you so so much\"))\n",
    "    "
   ]
  },
  {
   "cell_type": "code",
   "execution_count": null,
   "metadata": {},
   "outputs": [],
   "source": []
  }
 ],
 "metadata": {
  "kernelspec": {
   "display_name": "Python 3",
   "language": "python",
   "name": "python3"
  },
  "language_info": {
   "codemirror_mode": {
    "name": "ipython",
    "version": 3
   },
   "file_extension": ".py",
   "mimetype": "text/x-python",
   "name": "python",
   "nbconvert_exporter": "python",
   "pygments_lexer": "ipython3",
   "version": "3.7.3"
  }
 },
 "nbformat": 4,
 "nbformat_minor": 2
}
